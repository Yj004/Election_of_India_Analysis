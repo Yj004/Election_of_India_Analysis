{
 "cells": [
  {
   "cell_type": "code",
   "execution_count": 404,
   "id": "7841dbdc-546a-46e3-9e5b-129c1551ac0c",
   "metadata": {},
   "outputs": [],
   "source": [
    "from selenium import webdriver\n",
    "from selenium.webdriver.common.keys import Keys\n",
    "from selenium.webdriver.common.by import By\n",
    "\n",
    "\n",
    "from selenium.webdriver.support.ui import WebDriverWait\n",
    "from selenium.webdriver.support import expected_conditions as EC\n",
    "\n",
    "import pandas as pd\n",
    "import time"
   ]
  },
  {
   "cell_type": "code",
   "execution_count": 405,
   "id": "12cab48c-1c75-4c60-8c52-48dc34e6dff7",
   "metadata": {},
   "outputs": [],
   "source": [
    "url = \"https://www.indiavotes.com/lok-sabha/1977/all-states/6/0\""
   ]
  },
  {
   "cell_type": "code",
   "execution_count": 406,
   "id": "442c5a01-708d-4da3-b9ce-d834b84287ab",
   "metadata": {},
   "outputs": [],
   "source": [
    "driver= webdriver.Chrome()\n",
    "driver.maximize_window()"
   ]
  },
  {
   "cell_type": "code",
   "execution_count": 407,
   "id": "9cf4d5f3-904b-4232-a6ce-7c84d3647972",
   "metadata": {},
   "outputs": [],
   "source": [
    "driver.get(url)"
   ]
  },
  {
   "cell_type": "code",
   "execution_count": 408,
   "id": "db3acbdf-3630-427b-a70c-13d9f42d1869",
   "metadata": {},
   "outputs": [],
   "source": [
    "# /html/body/div[2]/div[2]/div/div[9]/div/table/tbody/tr[5]/td[2]"
   ]
  },
  {
   "cell_type": "code",
   "execution_count": 409,
   "id": "5108d252-20c8-4023-a9f6-88949c15918d",
   "metadata": {},
   "outputs": [],
   "source": [
    "election_year = []\n",
    "pc_name = []\n",
    "pc_no = []\n",
    "electors = []\n",
    "male_electors = []\n",
    "female_electors = []\n",
    "booths = []\n",
    "votes_polled = []\n",
    "male_voters = []\n",
    "female_voters = []\n"
   ]
  },
  {
   "cell_type": "code",
   "execution_count": 410,
   "id": "5cdf0207-2224-40d5-bc08-6f7b65df8ce9",
   "metadata": {},
   "outputs": [],
   "source": [
    "# Defining the year range for which we are targeting\n",
    "\n",
    "years_range = [1977, 1980, 1984, 1989, 1991, 1996, 1998, 1999, 2004, 2009, 2014,2019,2024]"
   ]
  },
  {
   "cell_type": "code",
   "execution_count": 411,
   "id": "b290bf54-028d-46ab-a005-b1091f6f7d08",
   "metadata": {},
   "outputs": [
    {
     "name": "stdout",
     "output_type": "stream",
     "text": [
      "['Adilabad']\n"
     ]
    }
   ],
   "source": [
    "\n",
    "\n",
    "years_counter = 9\n",
    "wait = WebDriverWait(driver, 10)  # Set the maximum wait time to 10 seconds\n",
    "\n",
    "for i in range(15, 16, 1):\n",
    "    url = f\"https://www.indiavotes.com/lok-sabha/1977/all-states/{i}/0\"\n",
    "    driver.get(url)\n",
    "    \n",
    "    # Wait for the table rows to load\n",
    "    number_constituency = wait.until(EC.presence_of_all_elements_located((By.XPATH, \"/html/body/div[2]/div[2]/div/div[9]/div/table/tbody/tr/td[1]\")))\n",
    "\n",
    "    for j in range(1, len(number_constituency)+1, 1):\n",
    "        wait = WebDriverWait(driver, 10)\n",
    "        try:\n",
    "            constituency_link = driver.find_element(By.XPATH, f\"/html/body/div[2]/div[2]/div/div[9]/div/table/tbody/tr[{j}]/td[2]/a\").get_attribute(\"href\")\n",
    "            wait = WebDriverWait(driver, 10)\n",
    "            try:\n",
    "                pc_name.append(driver.find_element(By.XPATH, f\"/html/body/div[2]/div[2]/div/div[9]/div/table/tbody/tr[{j}]/td[2]\").text)\n",
    "            except:\n",
    "                pc_name.append(None)\n",
    "    \n",
    "            try:\n",
    "                pc_no.append(driver.find_element(By.XPATH, f\"/html/body/div[2]/div[2]/div/div[9]/div/table/tbody/tr[{j}]/td[3]\").text)\n",
    "            except:\n",
    "                pc_no.append(None)\n",
    "\n",
    "            print(pc_name)\n",
    "            driver.get(constituency_link)\n",
    "\n",
    "            \n",
    "            # Wait for the details to load\n",
    "            wait.until(EC.presence_of_element_located((By.XPATH, \"/html/body/div[2]/div[2]/div/div[5]/ul/li[7]\")))\n",
    "            \n",
    "            try:\n",
    "                election_year.append(years_range[years_counter])\n",
    "            except:\n",
    "                election_year.append(None)\n",
    "\n",
    "\n",
    "            try:\n",
    "                electors.append(driver.find_element(By.XPATH, \"/html/body/div[2]/div[2]/div/div[5]/ul/li[1]\").text)\n",
    "            except:\n",
    "                electors.append(None)\n",
    "    \n",
    "            try:\n",
    "                male_electors.append(driver.find_element(By.XPATH, \"/html/body/div[2]/div[2]/div/div[5]/ul/li[2]\").text)\n",
    "            except:\n",
    "                male_electors.append(None)\n",
    "    \n",
    "            try:\n",
    "                female_electors.append(driver.find_element(By.XPATH, \"/html/body/div[2]/div[2]/div/div[5]/ul/li[3]\").text)\n",
    "            except:\n",
    "                female_electors.append(None)\n",
    "    \n",
    "            try:\n",
    "                booths.append(driver.find_element(By.XPATH, \"/html/body/div[2]/div[2]/div/div[5]/ul/li[4]\").text)\n",
    "            except:\n",
    "                booths.append(None)\n",
    "    \n",
    "            try:\n",
    "                votes_polled.append(driver.find_element(By.XPATH, \"/html/body/div[2]/div[2]/div/div[5]/ul/li[5]\").text)\n",
    "            except:\n",
    "                votes_polled.append(None)\n",
    "    \n",
    "            try:\n",
    "                male_voters.append(driver.find_element(By.XPATH, \"/html/body/div[2]/div[2]/div/div[5]/ul/li[6]\").text)\n",
    "            except:\n",
    "                male_voters.append(None)\n",
    "    \n",
    "            try:\n",
    "                female_voters.append(driver.find_element(By.XPATH, \"/html/body/div[2]/div[2]/div/div[5]/ul/li[7]\").text)\n",
    "            except:\n",
    "                female_voters.append(None)\n",
    "            time.sleep(3)\n",
    "            driver.back()\n",
    "            time.sleep(1)\n",
    "        except:\n",
    "            continue\n",
    "            \n",
    "    \n",
    "    years_counter += 1\n"
   ]
  },
  {
   "cell_type": "code",
   "execution_count": 412,
   "id": "f0bd9345-f301-49d5-8d9c-22671ab6b3f6",
   "metadata": {},
   "outputs": [
    {
     "name": "stdout",
     "output_type": "stream",
     "text": [
      "[]\n",
      "['Adilabad']\n",
      "['1']\n",
      "[]\n",
      "[]\n",
      "[]\n",
      "[]\n",
      "[]\n",
      "[]\n",
      "[]\n"
     ]
    }
   ],
   "source": [
    "print(election_year)\n",
    "print(pc_name)\n",
    "print(pc_no)\n",
    "print(electors)\n",
    "print(male_electors)\n",
    "print(female_electors)\n",
    "print(booths)\n",
    "print(votes_polled)\n",
    "print(male_voters)\n",
    "print(female_voters)\n"
   ]
  },
  {
   "cell_type": "code",
   "execution_count": 413,
   "id": "ce4123f8-743d-482f-851c-a5ecaedf54e0",
   "metadata": {},
   "outputs": [],
   "source": [
    "data = {\n",
    "    \"election_year\": election_year,\n",
    "    \"pc_name\": pc_name,\n",
    "    \"pc_no\": pc_no,\n",
    "    \"electors\": electors,\n",
    "    \"male_electors\": male_electors,\n",
    "    \"female_electors\": female_electors,\n",
    "    \"booths\": booths,\n",
    "    \"votes_polled\": votes_polled,\n",
    "    \"male_voters\": male_voters,\n",
    "    \"female_voters\": female_voters\n",
    "}\n"
   ]
  },
  {
   "cell_type": "code",
   "execution_count": 414,
   "id": "89c679f7-d8e3-4fc7-aad9-7f0bd05f390c",
   "metadata": {},
   "outputs": [
    {
     "name": "stdout",
     "output_type": "stream",
     "text": [
      "The length of the list for 'election_year' is 0\n",
      "The length of the list for 'pc_name' is 1\n",
      "The length of the list for 'pc_no' is 1\n",
      "The length of the list for 'electors' is 0\n",
      "The length of the list for 'male_electors' is 0\n",
      "The length of the list for 'female_electors' is 0\n",
      "The length of the list for 'booths' is 0\n",
      "The length of the list for 'votes_polled' is 0\n",
      "The length of the list for 'male_voters' is 0\n",
      "The length of the list for 'female_voters' is 0\n"
     ]
    }
   ],
   "source": [
    "# Print the length of each list in the dictionary\n",
    "for key, value in data.items():\n",
    "    print(f\"The length of the list for '{key}' is {len(value)}\")\n"
   ]
  },
  {
   "cell_type": "code",
   "execution_count": 415,
   "id": "23a22947-b1b7-4c85-a174-5d75b573794c",
   "metadata": {},
   "outputs": [
    {
     "data": {
      "text/html": [
       "<div>\n",
       "<style scoped>\n",
       "    .dataframe tbody tr th:only-of-type {\n",
       "        vertical-align: middle;\n",
       "    }\n",
       "\n",
       "    .dataframe tbody tr th {\n",
       "        vertical-align: top;\n",
       "    }\n",
       "\n",
       "    .dataframe thead th {\n",
       "        text-align: right;\n",
       "    }\n",
       "</style>\n",
       "<table border=\"1\" class=\"dataframe\">\n",
       "  <thead>\n",
       "    <tr style=\"text-align: right;\">\n",
       "      <th></th>\n",
       "      <th>election_year</th>\n",
       "      <th>pc_name</th>\n",
       "      <th>pc_no</th>\n",
       "      <th>electors</th>\n",
       "      <th>male_electors</th>\n",
       "      <th>female_electors</th>\n",
       "      <th>booths</th>\n",
       "      <th>votes_polled</th>\n",
       "      <th>male_voters</th>\n",
       "      <th>female_voters</th>\n",
       "    </tr>\n",
       "  </thead>\n",
       "  <tbody>\n",
       "  </tbody>\n",
       "</table>\n",
       "</div>"
      ],
      "text/plain": [
       "Empty DataFrame\n",
       "Columns: [election_year, pc_name, pc_no, electors, male_electors, female_electors, booths, votes_polled, male_voters, female_voters]\n",
       "Index: []"
      ]
     },
     "execution_count": 415,
     "metadata": {},
     "output_type": "execute_result"
    }
   ],
   "source": [
    "# min_length \n",
    "# Find the minimum key length\n",
    "# min_length = min(len(key) for key in data)\n",
    "\n",
    "# # Initialize every key with the minimum length\n",
    "# new_dict = {key: min_length for key in data}\n",
    "\n",
    "min_length = min(len(value) for value in data.values())\n",
    "\n",
    "# Step 2: Truncate all lists to the minimum length\n",
    "truncated_data = {key: value[:min_length] for key, value in data.items()}\n",
    "\n",
    "# Step 3: Convert to DataFrame\n",
    "df = pd.DataFrame(truncated_data)\n",
    "\n",
    "df\n",
    "\n"
   ]
  },
  {
   "cell_type": "code",
   "execution_count": 416,
   "id": "85bdddee-94c2-424f-9ac5-6030eb63a47c",
   "metadata": {},
   "outputs": [],
   "source": [
    "# df = pd.DataFrame(data)"
   ]
  },
  {
   "cell_type": "code",
   "execution_count": 417,
   "id": "876fde7e-ada4-4020-9103-ae89485e7ae4",
   "metadata": {},
   "outputs": [],
   "source": [
    "df.to_csv('Table_2_2009.csv')"
   ]
  },
  {
   "cell_type": "code",
   "execution_count": 418,
   "id": "194b0f3f-60b8-46e0-baff-8e661a7df3f8",
   "metadata": {},
   "outputs": [
    {
     "data": {
      "text/plain": [
       "Series([], Name: count, dtype: int64)"
      ]
     },
     "execution_count": 418,
     "metadata": {},
     "output_type": "execute_result"
    }
   ],
   "source": [
    "df['election_year'].value_counts()"
   ]
  },
  {
   "cell_type": "code",
   "execution_count": null,
   "id": "410cd035-34ab-4fd3-9b4b-c5ff4247a6e7",
   "metadata": {},
   "outputs": [],
   "source": [
    "\n"
   ]
  },
  {
   "cell_type": "code",
   "execution_count": null,
   "id": "b1d86171-f13a-4716-acd9-5180b25e6824",
   "metadata": {},
   "outputs": [],
   "source": []
  },
  {
   "cell_type": "code",
   "execution_count": null,
   "id": "27690848-1faf-478e-be4b-20f28810025d",
   "metadata": {},
   "outputs": [],
   "source": []
  },
  {
   "cell_type": "code",
   "execution_count": null,
   "id": "6ed6a916-0497-4bfb-9bce-912c841d883f",
   "metadata": {},
   "outputs": [],
   "source": []
  }
 ],
 "metadata": {
  "kernelspec": {
   "display_name": "Python 3 (ipykernel)",
   "language": "python",
   "name": "python3"
  },
  "language_info": {
   "codemirror_mode": {
    "name": "ipython",
    "version": 3
   },
   "file_extension": ".py",
   "mimetype": "text/x-python",
   "name": "python",
   "nbconvert_exporter": "python",
   "pygments_lexer": "ipython3",
   "version": "3.12.4"
  }
 },
 "nbformat": 4,
 "nbformat_minor": 5
}
